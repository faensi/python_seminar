{
 "cells": [
  {
   "cell_type": "markdown",
   "id": "cf37be52-224f-436a-944f-59a52be4d4a0",
   "metadata": {},
   "source": [
    "# Python OS Modul - Übersicht und Beispiele\n",
    "\n",
    "Das `os` Modul ist eines der wichtigsten Module in Python für die Interaktion mit dem Betriebssystem. Es bietet eine portable Schnittstelle zu betriebssystemspezifischen Funktionen.\n",
    "\n",
    "## Inhaltsverzeichnis\n",
    "1. Grundlagen und Import\n",
    "2. Verzeichnis- und Pfadoperationen\n",
    "3. Datei- und Verzeichnisverwaltung\n",
    "4. Umgebungsvariablen\n",
    "5. Prozessverwaltung\n",
    "6. Dateiberechtigungen und Metadaten\n",
    "7. Systeminformationen\n",
    "\n",
    "---\n",
    "\n",
    "## 1. Grundlagen und Import"
   ]
  },
  {
   "cell_type": "code",
   "execution_count": null,
   "id": "c7feee21-224e-46c3-8d96-b1e2272e96f6",
   "metadata": {},
   "outputs": [],
   "source": [
    "import os\n",
    "import os.path\n",
    "from pprint import pprint"
   ]
  },
  {
   "cell_type": "markdown",
   "id": "c431ae2c-32e7-4abc-84a3-a118177d90a8",
   "metadata": {},
   "source": [
    "### Aktuelle Arbeitsverzeichnis-Operationen"
   ]
  },
  {
   "cell_type": "code",
   "execution_count": null,
   "id": "02c0760c-f915-4f2a-a477-5070e971b49d",
   "metadata": {},
   "outputs": [],
   "source": [
    "# Aktuelles Arbeitsverzeichnis anzeigen\n",
    "aktuelles_verzeichnis = os.getcwd()\n",
    "print(f\"Aktuelles Verzeichnis: {aktuelles_verzeichnis}\")\n",
    "\n",
    "# Verzeichnis wechseln (Vorsicht: ändert das Arbeitsverzeichnis!)\n",
    "ursprungsverzeichnis = os.getcwd()\n",
    "print(f\"Ursprungsverzeichnis: {ursprungsverzeichnis}\")\n",
    "\n",
    "# Wieder zurück zum ursprünglichen Verzeichnis\n",
    "os.chdir(ursprungsverzeichnis)\n",
    "print(f\"Zurück zu: {os.getcwd()}\")"
   ]
  },
  {
   "cell_type": "markdown",
   "id": "68ddb395-8b20-4f1d-b135-4dc663f85295",
   "metadata": {},
   "source": [
    "---\n",
    "\n",
    "## 2. Verzeichnis- und Pfadoperationen\n",
    "\n",
    "### Pfade erstellen und manipulieren"
   ]
  },
  {
   "cell_type": "code",
   "execution_count": null,
   "id": "6177a484-45c2-43f1-8a4f-104955acecff",
   "metadata": {},
   "outputs": [],
   "source": [
    "# Plattformunabhängige Pfade erstellen\n",
    "pfad = os.path.join(\"ordner\", \"unterordner\", \"datei.txt\")\n",
    "print(f\"Erstellter Pfad: {pfad}\")\n",
    "\n",
    "# Pfadkomponenten aufteilen\n",
    "verzeichnis, dateiname = os.path.split(pfad)\n",
    "print(f\"Verzeichnis: {verzeichnis}\")\n",
    "print(f\"Dateiname: {dateiname}\")\n",
    "\n",
    "# Dateiname und Erweiterung trennen\n",
    "name, erweiterung = os.path.splitext(dateiname)\n",
    "print(f\"Name: {name}\")\n",
    "print(f\"Erweiterung: {erweiterung}\")\n",
    "\n",
    "# Absoluten Pfad erstellen\n",
    "absoluter_pfad = os.path.abspath(pfad)\n",
    "print(f\"Absoluter Pfad: {absoluter_pfad}\")"
   ]
  },
  {
   "cell_type": "markdown",
   "id": "225d6055-f27a-4e94-a1e7-0d6102a29d9b",
   "metadata": {},
   "source": [
    "### Verzeichnisinhalte auflisten"
   ]
  },
  {
   "cell_type": "code",
   "execution_count": null,
   "id": "47185f45-5377-47a7-989a-c38bc7485893",
   "metadata": {},
   "outputs": [],
   "source": [
    "# Aktuelles Verzeichnis auflisten\n",
    "print(\"Inhalte des aktuellen Verzeichnisses:\")\n",
    "inhalte = os.listdir(\".\")\n",
    "for element in sorted(inhalte)[:10]:  # Nur ersten 10 anzeigen\n",
    "    vollpfad = os.path.join(\".\", element)\n",
    "    typ = \"Verzeichnis\" if os.path.isdir(vollpfad) else \"Datei\"\n",
    "    print(f\"  {element} ({typ})\")\n",
    "\n",
    "# Rekursives Durchsuchen mit os.walk()\n",
    "print(\"\\nRekursive Verzeichnisstruktur (erste 5 Ebenen):\")\n",
    "count = 0\n",
    "for root, dirs, files in os.walk(\".\"):\n",
    "    if count >= 5:  # Begrenzen für Übersichtlichkeit\n",
    "        break\n",
    "    level = root.replace(\".\", \"\").count(os.sep)\n",
    "    indent = \" \" * 2 * level\n",
    "    print(f\"{indent}{os.path.basename(root)}/\")\n",
    "    subindent = \" \" * 2 * (level + 1)\n",
    "    for file in files[:3]:  # Nur erste 3 Dateien zeigen\n",
    "        print(f\"{subindent}{file}\")\n",
    "    if len(files) > 3:\n",
    "        print(f\"{subindent}... und {len(files)-3} weitere\")\n",
    "    count += 1"
   ]
  },
  {
   "cell_type": "markdown",
   "id": "02eea7eb-2c3c-4b32-9bed-1d50630a6749",
   "metadata": {},
   "source": [
    "---\n",
    "\n",
    "## 3. Datei- und Verzeichnisverwaltung\n",
    "\n",
    "### Verzeichnisse erstellen und löschen"
   ]
  },
  {
   "cell_type": "code",
   "execution_count": null,
   "id": "8e029e52-6355-4a1a-8ac8-c1f706ee0901",
   "metadata": {},
   "outputs": [],
   "source": [
    "# Testverzeichnis erstellen\n",
    "test_ordner = \"test_ordner_beispiel\"\n",
    "\n",
    "try:\n",
    "    # Einzelnes Verzeichnis erstellen\n",
    "    if not os.path.exists(test_ordner):\n",
    "        os.mkdir(test_ordner)\n",
    "        print(f\"Verzeichnis '{test_ordner}' erstellt\")\n",
    "    \n",
    "    # Verschachtelte Verzeichnisse erstellen\n",
    "    verschachtelter_pfad = os.path.join(test_ordner, \"unter1\", \"unter2\")\n",
    "    os.makedirs(verschachtelter_pfad, exist_ok=True)\n",
    "    print(f\"Verschachtelte Verzeichnisse erstellt: {verschachtelter_pfad}\")\n",
    "    \n",
    "    # Datei im Testordner erstellen\n",
    "    test_datei = os.path.join(test_ordner, \"test.txt\")\n",
    "    with open(test_datei, \"w\") as f:\n",
    "        f.write(\"Dies ist eine Testdatei\")\n",
    "    print(f\"Testdatei erstellt: {test_datei}\")\n",
    "    \n",
    "except OSError as e:\n",
    "    print(f\"Fehler beim Erstellen: {e}\")"
   ]
  },
  {
   "cell_type": "markdown",
   "id": "5bd2b777-e171-4ec4-91fc-a4be84bb8e6a",
   "metadata": {},
   "source": [
    "### Dateien und Verzeichnisse überprüfen"
   ]
  },
  {
   "cell_type": "code",
   "execution_count": null,
   "id": "65cf6163-1f5c-431a-a42c-d52d9a1f9f79",
   "metadata": {},
   "outputs": [],
   "source": [
    "# Verschiedene Pfadtypen überprüfen\n",
    "pfade_zum_testen = [test_ordner, test_datei, \"nicht_existent.txt\"]\n",
    "\n",
    "for pfad in pfade_zum_testen:\n",
    "    print(f\"\\nPfad: {pfad}\")\n",
    "    print(f\"  Existiert: {os.path.exists(pfad)}\")\n",
    "    print(f\"  Ist Datei: {os.path.isfile(pfad)}\")\n",
    "    print(f\"  Ist Verzeichnis: {os.path.isdir(pfad)}\")\n",
    "    print(f\"  Ist Symlink: {os.path.islink(pfad)}\")"
   ]
  },
  {
   "cell_type": "markdown",
   "id": "32c352f1-45b9-4f7f-a98b-a134178a34a4",
   "metadata": {},
   "source": [
    "### Dateien und Verzeichnisse löschen"
   ]
  },
  {
   "cell_type": "code",
   "execution_count": null,
   "id": "c4c1ab08-aaeb-4d51-821e-615e7d64970a",
   "metadata": {},
   "outputs": [],
   "source": [
    "import shutil\n",
    "\n",
    "# Aufräumen (Testverzeichnis löschen)\n",
    "try:\n",
    "    if os.path.exists(test_ordner):\n",
    "        # Für Verzeichnisse mit Inhalt: shutil.rmtree()\n",
    "        shutil.rmtree(test_ordner)\n",
    "        print(f\"Testverzeichnis '{test_ordner}' gelöscht\")\n",
    "        \n",
    "    # Alternative für leere Verzeichnisse: os.rmdir()\n",
    "    # Alternative für einzelne Dateien: os.remove()\n",
    "    \n",
    "except OSError as e:\n",
    "    print(f\"Fehler beim Löschen: {e}\")"
   ]
  },
  {
   "cell_type": "markdown",
   "id": "834e4cf0-8200-4dd5-910d-235c1d6fe9f1",
   "metadata": {},
   "source": [
    "---\n",
    "\n",
    "## 4. Umgebungsvariablen\n",
    "\n",
    "### Umgebungsvariablen lesen und setzen"
   ]
  },
  {
   "cell_type": "code",
   "execution_count": null,
   "id": "adea091e-577a-43d9-b76e-70fa3b46d55a",
   "metadata": {},
   "outputs": [],
   "source": [
    "# Alle Umgebungsvariablen anzeigen (erste 10)\n",
    "print(\"Erste 10 Umgebungsvariablen:\")\n",
    "count = 0\n",
    "for key, value in os.environ.items():\n",
    "    if count >= 10:\n",
    "        break\n",
    "    print(f\"  {key}: {value[:50]}{'...' if len(value) > 50 else ''}\")\n",
    "    count += 1\n",
    "\n",
    "# Spezifische Umgebungsvariablen\n",
    "wichtige_vars = ['PATH', 'HOME', 'USER', 'PYTHON_PATH']\n",
    "print(f\"\\nWichtige Umgebungsvariablen:\")\n",
    "for var in wichtige_vars:\n",
    "    wert = os.environ.get(var, \"Nicht gesetzt\")\n",
    "    if len(wert) > 100:\n",
    "        wert = wert[:100] + \"...\"\n",
    "    print(f\"  {var}: {wert}\")\n",
    "\n",
    "# Neue Umgebungsvariable setzen\n",
    "os.environ['MEINE_VARIABLE'] = 'Test_Wert'\n",
    "print(f\"\\nNeue Variable gesetzt: MEINE_VARIABLE = {os.environ['MEINE_VARIABLE']}\")\n",
    "\n",
    "# Sichere Methode mit Standard-Wert\n",
    "benutzer = os.getenv('USER', 'Unbekannt')\n",
    "print(f\"Aktueller Benutzer: {benutzer}\")"
   ]
  },
  {
   "cell_type": "markdown",
   "id": "5fde1880-355d-48a7-9398-7461925a3522",
   "metadata": {},
   "source": [
    "---\n",
    "\n",
    "## 5. Prozessverwaltung\n",
    "\n",
    "### Prozessinformationen"
   ]
  },
  {
   "cell_type": "code",
   "execution_count": null,
   "id": "0e26b46e-583f-46ce-a3b9-9e21b0246da0",
   "metadata": {},
   "outputs": [],
   "source": [
    "# Aktuelle Prozess-ID\n",
    "prozess_id = os.getpid()\n",
    "print(f\"Aktuelle Prozess-ID: {prozess_id}\")\n",
    "\n",
    "# Parent-Prozess-ID (falls verfügbar)\n",
    "try:\n",
    "    parent_id = os.getppid()\n",
    "    print(f\"Parent-Prozess-ID: {parent_id}\")\n",
    "except AttributeError:\n",
    "    print(\"Parent-Prozess-ID nicht verfügbar auf diesem System\")\n",
    "\n",
    "# Benutzer-IDs (Unix/Linux)\n",
    "try:\n",
    "    print(f\"Benutzer-ID: {os.getuid()}\")\n",
    "    print(f\"Gruppen-ID: {os.getgid()}\")\n",
    "except AttributeError:\n",
    "    print(\"Benutzer/Gruppen-IDs nicht verfügbar (Windows?)\")"
   ]
  },
  {
   "cell_type": "markdown",
   "id": "27c9c002-fe7a-406c-9db3-b40f5f35c355",
   "metadata": {},
   "source": [
    "---\n",
    "\n",
    "## 6. Dateiberechtigungen und Metadaten\n",
    "\n",
    "### Datei-Metadaten abrufen"
   ]
  },
  {
   "cell_type": "code",
   "execution_count": null,
   "id": "c20d32c7-7a30-4384-831d-9ecafae112a4",
   "metadata": {},
   "outputs": [],
   "source": [
    "# Metadaten der aktuellen Datei abrufen\n",
    "aktueller_pfad = os.path.abspath(__file__ if '__file__' in globals() else '.')\n",
    "\n",
    "try:\n",
    "    stat_info = os.stat(aktueller_pfad)\n",
    "    \n",
    "    print(f\"Metadaten für: {aktueller_pfad}\")\n",
    "    print(f\"  Größe: {stat_info.st_size} Bytes\")\n",
    "    print(f\"  Letzter Zugriff: {stat_info.st_atime}\")\n",
    "    print(f\"  Letzte Änderung: {stat_info.st_mtime}\")\n",
    "    print(f\"  Erstellung: {stat_info.st_ctime}\")\n",
    "    print(f\"  Modus (Oktal): {oct(stat_info.st_mode)}\")\n",
    "    \n",
    "    # Menschenlesbare Zeit\n",
    "    import time\n",
    "    letzte_aenderung = time.ctime(stat_info.st_mtime)\n",
    "    print(f\"  Letzte Änderung (lesbar): {letzte_aenderung}\")\n",
    "    \n",
    "except (OSError, NameError) as e:\n",
    "    print(f\"Metadaten können nicht abgerufen werden: {e}\")"
   ]
  },
  {
   "cell_type": "markdown",
   "id": "dc371d15-ad80-4b68-ae81-0323c4771d9e",
   "metadata": {},
   "source": [
    "---\n",
    "\n",
    "## 7. Systeminformationen\n",
    "\n",
    "### Betriebssystem-Details"
   ]
  },
  {
   "cell_type": "code",
   "execution_count": null,
   "id": "7201f2dc-b8f7-460c-8e5c-68333ef0e4fb",
   "metadata": {},
   "outputs": [],
   "source": [
    "# Grundlegende Systeminformationen\n",
    "print(\"Systeminformationen:\")\n",
    "print(f\"  Betriebssystem: {os.name}\")\n",
    "print(f\"  Plattform: {os.sys.platform}\")\n",
    "\n",
    "# Detailliertere Informationen\n",
    "import platform\n",
    "\n",
    "print(f\"\\nDetaillierte Systeminformationen:\")\n",
    "print(f\"  System: {platform.system()}\")\n",
    "print(f\"  Release: {platform.release()}\")\n",
    "print(f\"  Version: {platform.version()}\")\n",
    "print(f\"  Maschine: {platform.machine()}\")\n",
    "print(f\"  Prozessor: {platform.processor()}\")\n",
    "print(f\"  Python Version: {platform.python_version()}\")\n",
    "\n",
    "# Pfad-Trennzeichen\n",
    "print(f\"\\nPfad-Konfiguration:\")\n",
    "print(f\"  Pfadtrennzeichen: '{os.sep}'\")\n",
    "print(f\"  Pfad-Listen-Trennzeichen: '{os.pathsep}'\")\n",
    "print(f\"  Zeilenendezeichen: {repr(os.linesep)}\")"
   ]
  },
  {
   "cell_type": "markdown",
   "id": "0928b994-223e-480c-8741-dcfee877bda5",
   "metadata": {},
   "source": [
    "### Verfügbare Festplatten (Windows) oder Mount-Points (Unix)"
   ]
  },
  {
   "cell_type": "code",
   "execution_count": null,
   "id": "b526ea86-8b50-45ac-8667-c669111fd19f",
   "metadata": {},
   "outputs": [],
   "source": [
    "# Festplatten/Mount-Points\n",
    "try:\n",
    "    if os.name == 'nt':  # Windows\n",
    "        import string\n",
    "        verfugbare_laufwerke = []\n",
    "        for buchstabe in string.ascii_uppercase:\n",
    "            laufwerk = f\"{buchstabe}:\\\\\"\n",
    "            if os.path.exists(laufwerk):\n",
    "                verfugbare_laufwerke.append(laufwerk)\n",
    "        \n",
    "        print(f\"Verfügbare Laufwerke: {verfugbare_laufwerke}\")\n",
    "        \n",
    "    else:  # Unix/Linux/Mac\n",
    "        # Root-Verzeichnis und häufige Mount-Points\n",
    "        mount_points = [\"/\", \"/home\", \"/tmp\", \"/var\", \"/usr\"]\n",
    "        existierende_mounts = [mp for mp in mount_points if os.path.exists(mp)]\n",
    "        print(f\"Existierende Mount-Points: {existierende_mounts}\")\n",
    "        \n",
    "except Exception as e:\n",
    "    print(f\"Festplatten/Mount-Points können nicht ermittelt werden: {e}\")"
   ]
  },
  {
   "cell_type": "markdown",
   "id": "336df7c8-b2f8-45c5-bfc4-58f9deca9dce",
   "metadata": {},
   "source": [
    "---\n",
    "\n",
    "## Zusammenfassung der wichtigsten os-Funktionen\n",
    "\n",
    "| Kategorie | Funktion | Beschreibung |\n",
    "|-----------|----------|--------------|\n",
    "| **Verzeichnisse** | `os.getcwd()` | Aktuelles Arbeitsverzeichnis |\n",
    "| | `os.chdir(path)` | Verzeichnis wechseln |\n",
    "| | `os.listdir(path)` | Verzeichnisinhalt auflisten |\n",
    "| | `os.mkdir(path)` | Verzeichnis erstellen |\n",
    "| | `os.makedirs(path)` | Verschachtelte Verzeichnisse erstellen |\n",
    "| **Pfade** | `os.path.join()` | Pfade plattformunabhängig verbinden |\n",
    "| | `os.path.exists()` | Pfad-Existenz prüfen |\n",
    "| | `os.path.isfile()` | Ist es eine Datei? |\n",
    "| | `os.path.isdir()` | Ist es ein Verzeichnis? |\n",
    "| **Dateien** | `os.remove(path)` | Datei löschen |\n",
    "| | `os.rename(old, new)` | Datei/Verzeichnis umbenennen |\n",
    "| | `os.stat(path)` | Datei-Metadaten abrufen |\n",
    "| **Umgebung** | `os.environ` | Umgebungsvariablen-Dictionary |\n",
    "| | `os.getenv(key, default)` | Umgebungsvariable sicher abrufen |\n",
    "| **System** | `os.name` | Betriebssystemtyp |\n",
    "| | `os.getpid()` | Aktuelle Prozess-ID |\n",
    "| | `os.system(cmd)` | Systemkommando ausführen |\n",
    "\n",
    "## Wichtige Sicherheitshinweise\n",
    "\n",
    "\n",
    "1. **Pfad-Validierung**: Prüfen Sie Benutzereingaben für Pfade\n",
    "2. **Berechtigungen**: Seien Sie vorsichtig beim Ändern von Dateiberechtigungen\n",
    "3. **Plattformunabhängigkeit**: Verwenden Sie `os.path.join()` für Pfade"
   ]
  },
  {
   "cell_type": "code",
   "execution_count": null,
   "id": "24185abd-e818-4494-8cb7-798f0b5ef22f",
   "metadata": {},
   "outputs": [],
   "source": []
  }
 ],
 "metadata": {
  "kernelspec": {
   "display_name": "Python 3 (ipykernel)",
   "language": "python",
   "name": "python3"
  },
  "language_info": {
   "codemirror_mode": {
    "name": "ipython",
    "version": 3
   },
   "file_extension": ".py",
   "mimetype": "text/x-python",
   "name": "python",
   "nbconvert_exporter": "python",
   "pygments_lexer": "ipython3",
   "version": "3.11.0"
  }
 },
 "nbformat": 4,
 "nbformat_minor": 5
}
