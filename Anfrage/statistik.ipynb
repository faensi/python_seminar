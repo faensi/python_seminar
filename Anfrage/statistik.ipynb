{
 "cells": [
  {
   "cell_type": "markdown",
   "metadata": {},
   "source": [
    "# Statistische Methoden in Python: std, scipy, Normalverteilung, Kennzahlen, 7er-Zahlenzusammenfassung\n",
    "\n",
    "## 1️⃣ Einführung in statistische Methoden in Python\n",
    "\n",
    "- **Statistik = Analyse von Daten zur Beschreibung, Interpretation und Modellierung.**  \n",
    "- Python-Bibliotheken:\n",
    "   - **NumPy**: Schnelle numerische Berechnungen (z.B. Mittelwert, Standardabweichung).\n",
    "   - **SciPy**: Erweiterte Statistikfunktionen (z.B. Normalverteilung).\n",
    "   - **pandas**: Datenanalyse in Tabellenform, einfache Berechnung von Kennzahlen.\n",
    "\n",
    "Ziel: Die wichtigsten statistischen Kennzahlen berechnen und die Verteilung prüfen."
   ]
  },
  {
   "cell_type": "markdown",
   "metadata": {},
   "source": [
    "## 2️⃣ Kennzahlen\n",
    "\n",
    "**Lageparameter:**\n",
    "- Mittelwert (mean)\n",
    "- Median\n",
    "- Modus\n",
    "\n",
    "**Streuungsparameter:**\n",
    "- Standardabweichung (std)\n",
    "- Varianz\n",
    "- Range (Spannweite)\n",
    "- Quartile (Q1, Q3)\n",
    "\n",
    "Diese Kennzahlen helfen, die Verteilung und Streuung der Daten zu verstehen."
   ]
  },
  {
   "cell_type": "code",
   "execution_count": 2,
   "id": "1d56d13f",
   "metadata": {},
   "outputs": [
    {
     "name": "stdout",
     "output_type": "stream",
     "text": [
      "\"Mittelwert: 16.8\"\n",
      "\"Median: 17.5\"\n",
      "\"Modus: 10\"\n",
      "\"Standardabweichung: 3.966526608171604\"\n",
      "\"Varianz: 15.733333333333333\"\n",
      "\"Range: 12\"\n",
      "\"Q1: 14.25, Q3: 19.75\"\n"
     ]
    }
   ],
   "source": [
    "import numpy as np\n",
    "from scipy import stats\n",
    "\n",
    "# Beispiel-Daten\n",
    "data = np.array([12, 15, 14, 10, 18, 20, 22, 21, 17, 19])\n",
    "\n",
    "# Lageparameter\n",
    "mean = np.mean(data)\n",
    "median = np.median(data)\n",
    "mode = stats.mode(data).mode\n",
    "\n",
    "# Streuungsparameter\n",
    "std = np.std(data, ddof=1)\n",
    "var = np.var(data, ddof=1)\n",
    "data_range = np.max(data) - np.min(data)\n",
    "q1 = np.percentile(data, 25)\n",
    "q3 = np.percentile(data, 75)\n",
    "\n",
    "print(f'\"Mittelwert: {mean}\"')\n",
    "print(f'\"Median: {median}\"')\n",
    "print(f'\"Modus: {mode}\"')\n",
    "print(f'\"Standardabweichung: {std}\"')\n",
    "print(f'\"Varianz: {var}\"')\n",
    "print(f'\"Range: {data_range}\"')\n",
    "print(f'\"Q1: {q1}, Q3: {q3}\"')"
   ]
  },
  {
   "cell_type": "markdown",
   "id": "bce0534c",
   "metadata": {},
   "source": [
    "## 3️⃣ 7er-Zahlenzusammenfassung\n",
    "\n",
    "Die 7er-Zahlenzusammenfassung gibt einen genaueren Überblick über die Verteilung:\n",
    "\n",
    "- Minimum\n",
    "- 10%-Quantil\n",
    "- 25%-Quantil (Q1)\n",
    "- Median (50%-Quantil)\n",
    "- 75%-Quantil (Q3)\n",
    "- 90%-Quantil\n",
    "- Maximum"
   ]
  },
  {
   "cell_type": "code",
   "execution_count": 3,
   "id": "3a61c274",
   "metadata": {},
   "outputs": [
    {
     "name": "stdout",
     "output_type": "stream",
     "text": [
      "7er-Zahlenzusammenfassung:\n",
      "Min: 10\n",
      "10% Quantil: 11.8\n",
      "25% Quantil (Q1): 14.25\n",
      "Median: 17.5\n",
      "75% Quantil (Q3): 19.75\n",
      "90% Quantil: 21.1\n",
      "Max: 22\n"
     ]
    }
   ],
   "source": [
    "min_val = np.min(data)\n",
    "p10 = np.percentile(data, 10)\n",
    "p25 = np.percentile(data, 25)\n",
    "p50 = np.percentile(data, 50)\n",
    "p75 = np.percentile(data, 75)\n",
    "p90 = np.percentile(data, 90)\n",
    "max_val = np.max(data)\n",
    "\n",
    "print(\"7er-Zahlenzusammenfassung:\")\n",
    "print(f'Min: {min_val}')\n",
    "print(f'10% Quantil: {p10}')\n",
    "print(f'25% Quantil (Q1): {p25}')\n",
    "print(f'Median: {p50}')\n",
    "print(f'75% Quantil (Q3): {p75}')\n",
    "print(f'90% Quantil: {p90}')\n",
    "print(f'Max: {max_val}')"
   ]
  },
  {
   "cell_type": "markdown",
   "metadata": {},
   "source": [
    "## 4️⃣ Normalverteilung und Transformation\n",
    "\n",
    "- Die **Normalverteilung** ist die Glockenkurve.\n",
    "- Viele Daten sind *annähernd normalverteilt*.\n",
    "- **Transformationen** (z.B. logarithmisch) können Daten näherungsweise normalverteilt machen.\n",
    "\n",
    "**Prüfung auf Normalverteilung:**\n",
    "- Histogramm\n",
    "- QQ-Plot\n",
    "- Shapiro-Wilk-Test"
   ]
  },
  {
   "cell_type": "code",
   "execution_count": 5,
   "id": "e89dfd35",
   "metadata": {},
   "outputs": [
    {
     "name": "stdout",
     "output_type": "stream",
     "text": [
      "Channels:\n",
      " - conda-forge\n",
      "Platform: win-64\n",
      "Collecting package metadata (repodata.json): ...working... done\n",
      "Solving environment: ...working... done\n",
      "\n",
      "## Package Plan ##\n",
      "\n",
      "  environment location: c:\\Users\\brot\\.conda\\envs\\pyseminar\n",
      "\n",
      "  added / updated specs:\n",
      "    - seaborn\n",
      "\n",
      "\n",
      "The following packages will be downloaded:\n",
      "\n",
      "    package                    |            build\n",
      "    ---------------------------|-----------------\n",
      "    patsy-1.0.1                |     pyhd8ed1ab_1         182 KB  conda-forge\n",
      "    seaborn-0.13.2             |       hd8ed1ab_3           7 KB  conda-forge\n",
      "    seaborn-base-0.13.2        |     pyhd8ed1ab_3         223 KB  conda-forge\n",
      "    statsmodels-0.14.5         |  py312h196c9fc_0        11.0 MB  conda-forge\n",
      "    ------------------------------------------------------------\n",
      "                                           Total:        11.4 MB\n",
      "\n",
      "The following NEW packages will be INSTALLED:\n",
      "\n",
      "  patsy              conda-forge/noarch::patsy-1.0.1-pyhd8ed1ab_1 \n",
      "  seaborn            conda-forge/noarch::seaborn-0.13.2-hd8ed1ab_3 \n",
      "  seaborn-base       conda-forge/noarch::seaborn-base-0.13.2-pyhd8ed1ab_3 \n",
      "  statsmodels        conda-forge/win-64::statsmodels-0.14.5-py312h196c9fc_0 \n",
      "\n",
      "\n",
      "\n",
      "Downloading and Extracting Packages: ...working...\n",
      "statsmodels-0.14.5   | 11.0 MB   |            |   0% \n",
      "\n",
      "seaborn-base-0.13.2  | 223 KB    |            |   0% \u001b[A\n",
      "\n",
      "\n",
      "patsy-1.0.1          | 182 KB    |            |   0% \u001b[A\u001b[A\n",
      "\n",
      "\n",
      "\n",
      "seaborn-0.13.2       | 7 KB      |            |   0% \u001b[A\u001b[A\u001b[A\n",
      "\n",
      "\n",
      "\n",
      "seaborn-0.13.2       | 7 KB      | ########## | 100% \u001b[A\u001b[A\u001b[A\n",
      "\n",
      "\n",
      "patsy-1.0.1          | 182 KB    | ########## | 100% \u001b[A\u001b[A\n",
      "\n",
      "seaborn-base-0.13.2  | 223 KB    | ########## | 100% \u001b[A\n",
      "\n",
      "\n",
      "\n",
      "seaborn-0.13.2       | 7 KB      | ########## | 100% \u001b[A\u001b[A\u001b[A\n",
      "\n",
      "\n",
      "\n",
      "seaborn-0.13.2       | 7 KB      | ########## | 100% \u001b[A\u001b[A\u001b[A\n",
      "statsmodels-0.14.5   | 11.0 MB   |            |   0% \n",
      "\n",
      "\n",
      "patsy-1.0.1          | 182 KB    | ########## | 100% \u001b[A\u001b[A\n",
      "\n",
      "\n",
      "patsy-1.0.1          | 182 KB    | ########## | 100% \u001b[A\u001b[A\n",
      "\n",
      "seaborn-base-0.13.2  | 223 KB    | ########## | 100% \u001b[A\n",
      "\n",
      "seaborn-base-0.13.2  | 223 KB    | ########## | 100% \u001b[A\n",
      "statsmodels-0.14.5   | 11.0 MB   | #6         |  16% \n",
      "statsmodels-0.14.5   | 11.0 MB   | ####1      |  42% \n",
      "statsmodels-0.14.5   | 11.0 MB   | ######6    |  67% \n",
      "statsmodels-0.14.5   | 11.0 MB   | #########2 |  92% \n",
      "statsmodels-0.14.5   | 11.0 MB   | ########## | 100% \n",
      "statsmodels-0.14.5   | 11.0 MB   | ########## | 100% \n",
      "                                                     \n",
      "\n",
      "\n",
      "                                                     \u001b[A\n",
      "\n",
      "\n",
      "                                                     \u001b[A\u001b[A\n",
      "\n",
      "\n",
      "\n",
      "                                                     \u001b[A\u001b[A\u001b[A done\n",
      "Preparing transaction: done\n",
      "Verifying transaction: done\n",
      "Executing transaction: done\n",
      "\n",
      "Note: you may need to restart the kernel to use updated packages.\n"
     ]
    },
    {
     "name": "stderr",
     "output_type": "stream",
     "text": [
      "\n",
      "\n",
      "==> WARNING: A newer version of conda exists. <==\n",
      "    current version: 24.11.3\n",
      "    latest version: 25.5.1\n",
      "\n",
      "Please update conda by running\n",
      "\n",
      "    $ conda update -n base -c conda-forge conda\n",
      "\n",
      "\n"
     ]
    }
   ],
   "source": [
    "%conda install seaborn"
   ]
  },
  {
   "cell_type": "code",
   "execution_count": 8,
   "id": "31d6f6a3",
   "metadata": {},
   "outputs": [
    {
     "data": {
      "image/png": "[encoded data removed]",
      "text/plain": [
       "<Figure size 640x480 with 1 Axes>"
      ]
     },
     "metadata": {},
     "output_type": "display_data"
    },
    {
     "data": {
      "image/png": "[encoded data removed]",
      "text/plain": [
       "<Figure size 640x480 with 1 Axes>"
      ]
     },
     "metadata": {},
     "output_type": "display_data"
    },
    {
     "name": "stdout",
     "output_type": "stream",
     "text": [
      "Shapiro-Wilk p-Wert: 0.7924120024352965\n"
     ]
    }
   ],
   "source": [
    "import matplotlib.pyplot as plt\n",
    "import seaborn as sns\n",
    "\n",
    "# Histogramm\n",
    "sns.histplot(data, kde=True)\n",
    "plt.title(\"Histogramm mit KDE\")\n",
    "plt.show()\n",
    "\n",
    "# QQ-Plot\n",
    "stats.probplot(data, dist='norm', plot=plt)\n",
    "plt.title(\"QQ-Plot\")\n",
    "plt.show()\n",
    "\n",
    "# Shapiro-Wilk-Test\n",
    "shapiro_test = stats.shapiro(data)\n",
    "print(f'Shapiro-Wilk p-Wert: {shapiro_test.pvalue}')"
   ]
  },
  {
   "cell_type": "markdown",
   "metadata": {},
   "source": [
    "## 5️⃣ Übungen\n",
    "\n",
    "Berechne für folgende Daten Kennzahlen, die 7er-Zahlenzusammenfassung, erstelle Histogramm und QQ-Plot und führe den Shapiro-Wilk-Test durch:\n",
    "\n",
    "```python\n",
    "data_ex = [22, 20, 18, 25, 24, 19, 17, 23, 21, 20, 18, 26, 24, 23, 19]\n",
    "```"
   ]
  },
  {
   "cell_type": "code",
   "execution_count": null,
   "id": "69bd1610",
   "metadata": {},
   "outputs": [],
   "source": [
    "# Lösung\n",
    "\n"
   ]
  }
 ],
 "metadata": {
  "kernelspec": {
   "display_name": "Python 3",
   "language": "python",
   "name": "python3"
  },
  "language_info": {
   "codemirror_mode": {
    "name": "ipython",
    "version": 3
   },
   "file_extension": ".py",
   "mimetype": "text/x-python",
   "name": "python",
   "nbconvert_exporter": "python",
   "pygments_lexer": "ipython3",
   "version": "3.12.11"
  }
 },
 "nbformat": 4,
 "nbformat_minor": 5
}
