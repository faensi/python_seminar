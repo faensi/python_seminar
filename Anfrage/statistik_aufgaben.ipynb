{
 "cells": [
  {
   "cell_type": "markdown",
   "id": "e43989ea",
   "metadata": {},
   "source": [
    "# 📝 Übungsaufgaben: Statistische Methoden in Python\n"
   ]
  },
  {
   "cell_type": "markdown",
   "id": "d2edd2db",
   "metadata": {},
   "source": [
    "## Aufgabe 1: Einfache Kennzahlen\n",
    "\n",
    "Erzeuge eine Liste mit **20 Zufallszahlen zwischen 10 und 30** und berechne:\n",
    "\n",
    "- Mittelwert\n",
    "- Median\n",
    "- Modus\n",
    "- Standardabweichung\n",
    "- Varianz\n",
    "- Range (Spannweite)"
   ]
  },
  {
   "cell_type": "code",
   "execution_count": 19,
   "id": "384ea32f",
   "metadata": {},
   "outputs": [
    {
     "name": "stdout",
     "output_type": "stream",
     "text": [
      "2\n"
     ]
    }
   ],
   "source": [
    "import numpy as np\n",
    "from scipy import stats\n",
    "\n",
    "#np.random.seed(0) # random seed für reproduzierbare Zufallszahlen \n",
    "print(np.random.randint(5))\n"
   ]
  },
  {
   "cell_type": "markdown",
   "id": "bbd306bf",
   "metadata": {},
   "source": [
    "## Lösung:"
   ]
  },
  {
   "cell_type": "code",
   "execution_count": 3,
   "id": "81d7d526",
   "metadata": {},
   "outputs": [
    {
     "name": "stdout",
     "output_type": "stream",
     "text": [
      "Daten: [22, 25, 10, 13, 13, 17, 19, 29, 28, 14, 16, 22, 11, 16, 17, 24, 27, 15, 23, 18]\n",
      "Mittelwert: 18.95\n",
      "Median: 17.5\n",
      "Modus: [13]\n",
      "Standardabweichung: 5.735163926441675\n",
      "Varianz: 32.892105263157895\n",
      "Range: 19\n"
     ]
    }
   ],
   "source": [
    "import numpy as np\n",
    "from scipy import stats\n",
    "\n",
    "np.random.seed(0)  # Reproduzierbar\n",
    "data1 = [np.random.randint(10, 31) for _ in range(20)]\n",
    "\n",
    "print('Daten:', data1)\n",
    "\n",
    "print('Mittelwert:', np.mean(data1))\n",
    "print('Median:', np.median(data1))\n",
    "print('Modus:', stats.mode(data1, keepdims=True).mode)\n",
    "print('Standardabweichung:', np.std(data1, ddof=1))\n",
    "print('Varianz:', np.var(data1, ddof=1))\n",
    "print('Range:', np.max(data1) - np.min(data1))"
   ]
  },
  {
   "cell_type": "markdown",
   "id": "e416197b",
   "metadata": {},
   "source": [
    "## Aufgabe 2: 7er-Zahlenzusammenfassung\n",
    "\n",
    "Erstelle eine **Liste mit 50 Zufallszahlen zwischen 50 und 100** und berechne die **7er-Zahlenzusammenfassung**:\n",
    "\n",
    "- Minimum\n",
    "- 10%-Quantil\n",
    "- 25%-Quantil (Q1)\n",
    "- Median\n",
    "- 75%-Quantil (Q3)\n",
    "- 90%-Quantil\n",
    "- Maximum"
   ]
  },
  {
   "cell_type": "code",
   "execution_count": null,
   "id": "d4a8daf3",
   "metadata": {},
   "outputs": [],
   "source": [
    "data2 = [np.random.randint(50, 101) for _ in range(50)]\n",
    "\n",
    "print('Daten:', data2)\n",
    "\n",
    "print('Min:', np.min(data2))\n",
    "print('10% Quantil:', np.percentile(data2, 10))\n",
    "print('25% Quantil (Q1):', np.percentile(data2, 25))\n",
    "print('Median:', np.median(data2))\n",
    "print('75% Quantil (Q3):', np.percentile(data2, 75))\n",
    "print('90% Quantil:', np.percentile(data2, 90))\n",
    "print('Max:', np.max(data2))"
   ]
  },
  {
   "cell_type": "markdown",
   "id": "b59b46b8",
   "metadata": {},
   "source": [
    "## Aufgabe 3: Normalverteilung prüfen\n",
    "\n",
    "Erzeuge eine **Liste mit 100 Werten aus einer normalverteilten Zufallsverteilung mit Mittelwert 50 und Standardabweichung 5** und:\n",
    "\n",
    "- Erstelle ein Histogramm mit KDE\n",
    "- Erstelle einen QQ-Plot\n",
    "- Führe den Shapiro-Wilk-Test durch"
   ]
  },
  {
   "cell_type": "code",
   "execution_count": null,
   "id": "99864886",
   "metadata": {},
   "outputs": [],
   "source": [
    "import matplotlib.pyplot as plt\n",
    "import seaborn as sns\n",
    "\n",
    "data3 = np.random.normal(loc=50, scale=5, size=100)\n",
    "\n",
    "# Histogramm mit KDE\n",
    "sns.histplot(data3, kde=True)\n",
    "plt.title('Histogramm mit KDE')\n",
    "plt.xlabel('Werte')\n",
    "plt.ylabel('Häufigkeit')\n",
    "plt.show()\n",
    "\n",
    "# QQ-Plot\n",
    "stats.probplot(data3, dist='norm', plot=plt)\n",
    "plt.title('QQ-Plot')\n",
    "plt.show()\n",
    "\n",
    "# Shapiro-Wilk-Test\n",
    "shapiro_test = stats.shapiro(data3)\n",
    "print('Shapiro-Wilk p-Wert:', shapiro_test.pvalue)"
   ]
  },
  {
   "cell_type": "markdown",
   "id": "99a15e0b",
   "metadata": {},
   "source": [
    "✅ **Bearbeite alle Aufgaben Schritt für Schritt, um deine Fähigkeiten in Python Statistik zu festigen.**\n",
    "\n",
    "Falls gewünscht, können zusätzliche Aufgaben zur Simulation von Datensätzen oder Datenbereinigung ergänzt werden."
   ]
  }
 ],
 "metadata": {
  "kernelspec": {
   "display_name": "Python 3",
   "language": "python",
   "name": "python3"
  },
  "language_info": {
   "codemirror_mode": {
    "name": "ipython",
    "version": 3
   },
   "file_extension": ".py",
   "mimetype": "text/x-python",
   "name": "python",
   "nbconvert_exporter": "python",
   "pygments_lexer": "ipython3",
   "version": "3.12.11"
  }
 },
 "nbformat": 4,
 "nbformat_minor": 5
}
