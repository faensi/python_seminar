{
 "cells": [
  {
   "cell_type": "markdown",
   "metadata": {},
   "source": [
    "# 🪐 Einführung in User Interfaces mit Tkinter\n",
    "\n",
    "Dieses Notebook bietet eine kompakte Einführung in die Erstellung einfacher Desktop-Oberflächen mit Tkinter."
   ]
  },
  {
   "cell_type": "markdown",
   "metadata": {},
   "source": [
    "## 1️⃣ Was ist Tkinter?\n",
    "- Standard‑GUI‑Bibliothek für Python (im Standardpaket enthalten)\n",
    "- Basiert auf dem Tcl/Tk‑Toolkit\n",
    "- Ermöglicht einfache Fensteranwendungen mit Buttons, Labels, Eingabefeldern"
   ]
  },
  {
   "cell_type": "markdown",
   "metadata": {},
   "source": [
    "## 2️⃣ Grundstruktur eines Tkinter‑Programms\n",
    "1. `import tkinter as tk`\n",
    "2. Hauptfenster erstellen: `root = tk.Tk()`\n",
    "3. Widgets erstellen (Buttons, Labels, Entry, ...)\n",
    "4. Widgets platzieren (`pack()`, `grid()`, `place()`)\n",
    "5. Event‑Loop starten: `root.mainloop()`"
   ]
  },
  {
   "cell_type": "code",
   "execution_count": 1,
   "metadata": {},
   "outputs": [],
   "source": [
    "import tkinter as tk\n",
    "\n",
    "# 3️⃣ Beispiel: Einfaches Fenster\n",
    "root = tk.Tk()\n",
    "root.title(\"Mein erstes Tkinter‑UI\")\n",
    "\n",
    "label = tk.Label(root, text=\"Willkommen!\")\n",
    "label.pack()\n",
    "\n",
    "def sag_hallo():\n",
    "    label.config(text=\"Hallo Welt!\")\n",
    "\n",
    "button = tk.Button(root, text=\"Klicke mich\", command=sag_hallo)\n",
    "button.pack()\n",
    "\n",
    "root.mainloop()"
   ]
  },
  {
   "cell_type": "markdown",
   "metadata": {},
   "source": [
    "## 3️⃣ Wichtige Widgets\n",
    "- `Label` – Texte oder Bilder anzeigen\n",
    "- `Button` – Knöpfe für Aktionen\n",
    "- `Entry` – einzeilige Texteingabe\n",
    "- `Text` – mehrzeilige Texteingabe\n",
    "- `Frame` – Container für bessere Organisation\n",
    "- `Canvas` – Zeichenfläche für Grafiken\n",
    "- `Checkbutton`, `Radiobutton` – Auswahlfelder"
   ]
  },
  {
   "cell_type": "markdown",
   "metadata": {},
   "source": [
    "## 4️⃣ Layout‑Management\n",
    "- **`pack()`**: Widgets untereinander oder nebeneinander\n",
    "- **`grid()`**: Tabellen‑Anordnung (Zeile/Spalte)\n",
    "- **`place()`**: Exakte Position mit x/y‑Koordinaten"
   ]
  },
  {
   "cell_type": "markdown",
   "metadata": {},
   "source": [
    "## 5️⃣ Event Handling\n",
    "- Tkinter reagiert auf Benutzeraktionen wie Klicks oder Tastaturereignisse\n",
    "- `command=` bei Buttons, um Funktionen anzubinden:\n",
    "  ```python\n",
    "  def hallo():\n",
    "      print(\"Hallo Welt\")\n",
    "  btn = tk.Button(root, text=\"Klick mich!\", command=hallo)\n",
    "  ```\n",
    "- `bind()` ermöglicht detailliertere Steuerung:\n",
    "  ```python\n",
    "  root.bind(\"<Key>\", callback_funktion)\n",
    "  ```"
   ]
  },
  {
   "cell_type": "markdown",
   "metadata": {},
   "source": [
    "## 7️⃣ Warum Tkinter?\n",
    "- ✅ Einfach für Einsteiger\n",
    "- ✅ Plattformübergreifend (Windows, macOS, Linux)\n",
    "- ✅ Für kleine bis mittlere Anwendungen ausreichend\n",
    "- ✅ Bereits in Python integriert"
   ]
  }
 ],
 "metadata": {
  "kernelspec": {
   "display_name": "Python 3",
   "language": "python",
   "name": "python3"
  },
  "language_info": {
   "codemirror_mode": {
    "name": "ipython",
    "version": 3
   },
   "file_extension": ".py",
   "mimetype": "text/x-python",
   "name": "python",
   "nbconvert_exporter": "python",
   "pygments_lexer": "ipython3",
   "version": "3.12.11"
  }
 },
 "nbformat": 4,
 "nbformat_minor": 2
}
