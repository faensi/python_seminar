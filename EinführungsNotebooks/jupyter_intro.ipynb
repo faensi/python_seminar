{
 "cells": [
  {
   "cell_type": "markdown",
   "id": "c50f40d3-9e76-4ab1-924d-7064889ccbb7",
   "metadata": {},
   "source": [
    "# EDV-Coaching - Python\n",
    "## Einführung in Jupyter Notebook\n",
    "***\n",
    "In diesem Notebook wird behandelt:\n",
    "- Was ist Jupyter Notebook?\n",
    "- Grundlegende Navigation\n",
    "- Zelltypen und Modi\n",
    "- Nützliche Tastenkombinationen\n",
    "- Best Practices\n",
    "***\n",
    "\n",
    "## 1 Was ist Jupyter Notebook?\n",
    "\n",
    "Jupyter Notebook ist eine webbasierte interaktive Entwicklungsumgebung, die es ermöglicht, Code, Text, Gleichungen und Visualisierungen in einem einzigen Dokument zu kombinieren. <br>\n",
    "\n",
    "Der Name \"Jupyter\" ist eine Anspielung auf die drei Kernprogrammiersprachen: **Ju**lia, **Py**thon und **R**. <br>\n",
    "\n",
    "## 2 Navigation und Grundfunktionen\n",
    "\n",
    "Ein Jupyter Notebook besteht aus einer Reihe von Zellen. Es gibt zwei Hauptmodi: <br>\n",
    "\n",
    "1. **Kommandomodus** (blauer Rand):\n",
    "   - Aktivierung durch `Esc`\n",
    "   - Zum Navigieren zwischen Zellen\n",
    "   - Für Zelloperationen (kopieren, einfügen, löschen) <br>\n",
    "\n",
    "2. **Bearbeitungsmodus** (grüner Rand):\n",
    "   - Aktivierung durch `Enter`\n",
    "   - Zum Bearbeiten des Zelleninhalts <br>\n",
    "\n",
    "## 3 Zelltypen\n",
    "\n",
    "In Jupyter gibt es verschiedene Zelltypen: <br>\n",
    "\n",
    "### 3.1 Code-Zellen\n",
    "Code-Zellen enthalten ausführbaren Python-Code: <br>"
   ]
  },
  {
   "cell_type": "code",
   "execution_count": 3,
   "id": "0d75f529-4663-4761-b6f4-7e8a2dbade7f",
   "metadata": {},
   "outputs": [
    {
     "name": "stdout",
     "output_type": "stream",
     "text": [
      "Hallo Welt!\n",
      "Die Summe ist: 15\n"
     ]
    }
   ],
   "source": [
    "# Dies ist eine Code-Zelle\n",
    "print(\"Hallo Welt!\")\n",
    "x = 5\n",
    "y = 10\n",
    "print(f\"Die Summe ist: {x + y}\")"
   ]
  },
  {
   "cell_type": "markdown",
   "id": "b5f76381-924c-4e1d-854a-364ae9fa7a7f",
   "metadata": {},
   "source": [
    "### 3.2 Markdown-Zellen\n",
    "Markdown-Zellen enthalten formatierten Text: <br>\n",
    "\n",
    "- **Fetter Text** mit `**Text**`\n",
    "- *Kursiver Text* mit `*Text*`\n",
    "- `Code` mit Backticks\n",
    "- Mathematische Formeln mit LaTeX: $E = mc^2$\n",
    "- Listen mit `-` oder `1.`\n",
    "- Links mit `[Text](URL)` <br>\n",
    "\n",
    "## 4 Wichtige Tastenkombinationen\n",
    "\n",
    "| Tastenkombination | Funktion |\n",
    "|:-----------------|:----------|\n",
    "| `Shift + Enter`  | Zelle ausführen und zur nächsten springen |\n",
    "| `Ctrl + Enter`   | Zelle ausführen und in der Zelle bleiben |\n",
    "| `Alt + Enter`    | Zelle ausführen und neue Zelle einfügen |\n",
    "| `Esc + M`        | Zelle zu Markdown konvertieren |\n",
    "| `Esc + Y`        | Zelle zu Code konvertieren |\n",
    "| `Esc + A`        | Neue Zelle oberhalb einfügen |\n",
    "| `Esc + B`        | Neue Zelle unterhalb einfügen |\n",
    "| `Esc + DD`       | Zelle löschen |\n",
    "| `Esc + Z`        | Letzte Löschung rückgängig machen |\n",
    "\n",
    "## 5 Best Practices\n",
    "\n",
    "1. **Strukturierung**:\n",
    "   - Verwende klare Überschriften\n",
    "   - Teile Code in logische Abschnitte\n",
    "   - Dokumentiere wichtige Schritte <br>\n",
    "\n",
    "2. **Code-Ausführung**:\n",
    "   - Führe Zellen in der richtigen Reihenfolge aus\n",
    "   - Nutze \"Kernel → Restart & Run All\" zum Testen\n",
    "   - Speichere regelmäßig (`Ctrl + S`) <br>\n",
    "\n",
    "3. **Dokumentation**:\n",
    "   - Kommentiere komplexen Code\n",
    "   - Nutze Markdown für Erklärungen\n",
    "   - Füge Beispiele hinzu <br>\n"
   ]
  },
  {
   "cell_type": "markdown",
   "id": "a2882a8d-203c-43b5-a23f-e477594fdd32",
   "metadata": {},
   "source": [
    "## Fazit:\n",
    "\n",
    "Jupyter Notebook ist ein mächtiges Werkzeug für:\n",
    "- Interaktive Datenanalyse\n",
    "- Dokumentation von Code\n",
    "- Präsentation von Ergebnissen\n",
    "- Lehre und Lernen\n",
    "- Wissenschaftliches Arbeiten <br>\n",
    "\n",
    "In den nächsten Notebooks werden wir diese Funktionen nutzen, um Python und seine wissenschaftlichen Bibliotheken zu erkunden. <br>"
   ]
  },
  {
   "cell_type": "markdown",
   "id": "d356a014-425d-4221-8fde-1742a1533802",
   "metadata": {},
   "source": [
    "# Für die nächsten Tage\n",
    "\n",
    "Das gesamte Material des Kurses liegt in Form von Jupyter Notebooks vor. In der Regel wird jeder Abschnitt wie folgt aufgebaut sein: "
   ]
  },
  {
   "cell_type": "markdown",
   "id": "7136b563-5428-4ed8-84d9-c1b6f9daf710",
   "metadata": {},
   "source": [
    "## 1. Thema\n",
    "\n",
    "Erklärung <br>\n",
    "Beispiele <br>\n",
    "\n",
    "#### 1.1 Aufgaben:\n",
    "> (a) Aufgabe 1 <br>\n",
    "> (b) Aufgabe 2 <br>\n",
    "> (c) Aufgabe 3 <br>"
   ]
  },
  {
   "cell_type": "code",
   "execution_count": null,
   "id": "5ac8d610-add1-4b73-8b8a-67fb5df74031",
   "metadata": {},
   "outputs": [],
   "source": [
    "# Deine Lösung:\n",
    "\n",
    "\n",
    "\n"
   ]
  },
  {
   "cell_type": "markdown",
   "id": "7a59208d-3cd8-4300-a7d4-813cec09a8bd",
   "metadata": {
    "jp-MarkdownHeadingCollapsed": true
   },
   "source": [
    "#### Lösung:"
   ]
  },
  {
   "cell_type": "markdown",
   "id": "50970010-1dc7-4322-acf5-a8fca7baa459",
   "metadata": {},
   "source": [
    "Hier findet ihr den Lösungs - Code und eventuell weitere Erklärungen. <br>\n",
    "Die Lösung sollte bestenfalls beim Öffnen des Notebooks schon eingeklappt sein. Falls das nicht so sein sollte, tut mir den gefallen und klappt sie ein, ohne sie allzu genau anzusehen :)"
   ]
  },
  {
   "cell_type": "markdown",
   "id": "c1c2c22d-0476-4711-adc6-a0116ccbf46e",
   "metadata": {},
   "source": [
    "# 2. Thema\n",
    "\n",
    "Erklärung <br>\n",
    "Beispiele <br>\n",
    "\n",
    "..."
   ]
  }
 ],
 "metadata": {
  "kernelspec": {
   "display_name": "Python 3 (ipykernel)",
   "language": "python",
   "name": "python3"
  },
  "language_info": {
   "codemirror_mode": {
    "name": "ipython",
    "version": 3
   },
   "file_extension": ".py",
   "mimetype": "text/x-python",
   "name": "python",
   "nbconvert_exporter": "python",
   "pygments_lexer": "ipython3",
   "version": "3.11.0"
  }
 },
 "nbformat": 4,
 "nbformat_minor": 5
}
