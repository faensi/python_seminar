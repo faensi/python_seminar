{
 "cells": [
  {
   "cell_type": "markdown",
   "id": "8f84369b",
   "metadata": {},
   "source": [
    "# Python: Eine Einführung\n",
    "\n",
    "Python ist eine sogenannte high-level (hochsprachige) Programmiersprache. Sie wurde 1991 von Guido van Rossum veröffentlicht. Python legt besonderen Wert auf Lesbarkeit und Einfachheit – Codeblöcke werden durch Einrückung (Indentation) statt durch Klammern oder Schlüsselwörter strukturiert.\n",
    "\n",
    "- **High-level (hochsprachig):** Leicht zu lesen und zu schreiben, sehr nah an der menschlichen Sprache.\n",
    "- **Erstveröffentlichung:** 1991\n",
    "- **Aktuelle Version:** 3.x (prüfbar mit `python --version`)\n",
    "- **Indentation-basiert:** Die Struktur des Codes ergibt sich aus der Einrückung, nicht aus Klammern.\n",
    "- **Plattformunabhängig:** Läuft auf Windows, macOS, Linux und vielen anderen Systemen.\n",
    "- **Open Source:** Frei verfügbar und quelloffen.\n",
    "- **Dynamische Typisierung:** Variablen müssen nicht deklariert werden, der Typ kann sich ändern.\n",
    "- **Interaktiv:** Python kann direkt in der Konsole oder in Notebooks ausprobiert werden.\n",
    "- **Standardbibliothek:** Python bringt viele nützliche Module für z.B. Dateiverarbeitung, Mathematik, Web und mehr mit.\n",
    "- **Große Community:** Eine der größten und aktivsten Programmier-Communities. Es gibt tausende Zusatzpakete (Libraries) für Data Science, Webentwicklung, Automatisierung, Machine Learning, Wissenschaft, Spieleentwicklung und vieles mehr.\n",
    "- **Einsteigerfreundlich:** Sehr beliebt für den Einstieg ins Programmieren, aber auch in der Industrie und Forschung weit verbreitet.\n",
    "- **Beliebtheit:** Python ist eine der meistgenutzten Programmiersprachen weltweit (TIOBE-Index, Stack Overflow).\n",
    "\n",
    "Python ist sowohl bei Einsteigern als auch bei Profis sehr beliebt und wird in Wissenschaft, Technik, Webentwicklung, Automatisierung und vielen anderen Bereichen eingesetzt."
   ]
  },
  {
   "cell_type": "markdown",
   "id": "136e8b01",
   "metadata": {},
   "source": [
    "## Dein erstes Python-Programm: Hello World\n",
    "\n",
    "Wir geben eine einfache Nachricht auf dem Bildschirm aus."
   ]
  },
  {
   "cell_type": "code",
   "execution_count": null,
   "id": "193472db",
   "metadata": {},
   "outputs": [],
   "source": [
    "print(\"Hallo, Welt!\")"
   ]
  },
  {
   "cell_type": "markdown",
   "id": "2c15dc88",
   "metadata": {},
   "source": [
    "Du hast gerade dein erstes Python-Programm geschrieben und ausgeführt! 🎉"
   ]
  }
 ],
 "metadata": {
  "language_info": {
   "name": "python"
  }
 },
 "nbformat": 4,
 "nbformat_minor": 5
}
